{
  "cells": [
    {
      "cell_type": "markdown",
      "metadata": {
        "id": "8BuhM4e3b6xo"
      },
      "source": [
        "Modus pones primer ejercicio\n",
        "\n",
        "Sea el siguiente conjunto de reglas:\n",
        "\n",
        "  \n",
        "\n",
        "R1: Si h8 y h6 y h5 entonces h4\n",
        "\n",
        "R2: Si h6 y h3 entonces h9\n",
        "\n",
        "R3: Si h7 y h4 entonces h9\n",
        "\n",
        "R4: Si h8 entonces h1\n",
        "\n",
        "R5: Si h6 entonces h5\n",
        "\n",
        "R6: Si h9 y h1 entonces h2\n",
        "\n",
        "R7: Si h7 entonces h6\n",
        "\n",
        "R8: Si h1 y h7 entonces h9\n",
        "\n",
        "R9: Si h1 y h8 entonces h6\n",
        "\n",
        "  \n",
        "\n",
        "El concepto meta es h2 y la B.C inicial es B.C = { h7, h8}"
      ]
    },
    {
      "cell_type": "code",
      "execution_count": 1,
      "metadata": {
        "id": "vvqaXktUcQM6"
      },
      "outputs": [],
      "source": [
        "# Definición de las reglas\n",
        "rules = {\n",
        "    'R1': (['h8', 'h6', 'h5'], 'h4'),\n",
        "    'R2': (['h6', 'h3'], 'h9'),\n",
        "    'R3': (['h7', 'h4'], 'h9'),\n",
        "    'R4': (['h8'], 'h1'),\n",
        "    'R5': (['h6'], 'h5'),\n",
        "    'R6': (['h9', 'h1'], 'h2'),\n",
        "    'R7': (['h7'], 'h6'),\n",
        "    'R8': (['h1', 'h7'], 'h9'),\n",
        "    'R9': (['h1', 'h8'], 'h6')\n",
        "}"
      ]
    },
    {
      "cell_type": "code",
      "execution_count": 2,
      "metadata": {
        "id": "b1i7AiekcabU"
      },
      "outputs": [],
      "source": [
        "# Base de conocimiento inicial\n",
        "base_conocimiento = {'h7', 'h8'}"
      ]
    },
    {
      "cell_type": "code",
      "execution_count": 3,
      "metadata": {
        "id": "uOg43jnBcgvd"
      },
      "outputs": [],
      "source": [
        "# Concepto meta\n",
        "concepto_meta = 'h2'"
      ]
    },
    {
      "cell_type": "code",
      "execution_count": 4,
      "metadata": {
        "id": "zCCDPYY6clKM"
      },
      "outputs": [],
      "source": [
        "# Función para aplicar una regla a la base de conocimiento\n",
        "def aplicar_regla(regla, base):\n",
        "    antecedentes, consecuente = rules[regla]\n",
        "    if all(a in base for a in antecedentes):\n",
        "        base.add(consecuente)\n",
        "\n",
        "        print(f\"Nuevo elemento agregado a la base: {consecuente}\")\n",
        "        print(f\"Base actual: {base}\")"
      ]
    },
    {
      "cell_type": "code",
      "execution_count": 5,
      "metadata": {
        "id": "_eQmvYV1cpU0"
      },
      "outputs": [],
      "source": [
        "# Función para aplicar todas las reglas a la base de conocimiento\n",
        "def aplicar_reglas(base):\n",
        "    for regla in rules:\n",
        "        aplicar_regla(regla, base)"
      ]
    },
    {
      "cell_type": "code",
      "execution_count": 6,
      "metadata": {
        "colab": {
          "base_uri": "https://localhost:8080/"
        },
        "id": "f_SFMPQfcs96",
        "outputId": "39a89564-3e8c-4e7e-b1d0-4d6355682818"
      },
      "outputs": [
        {
          "name": "stdout",
          "output_type": "stream",
          "text": [
            "Nuevo elemento agregado a la base: h1\n",
            "Base actual: {'h1', 'h7', 'h8'}\n",
            "Nuevo elemento agregado a la base: h6\n",
            "Base actual: {'h6', 'h1', 'h7', 'h8'}\n",
            "Nuevo elemento agregado a la base: h9\n",
            "Base actual: {'h6', 'h9', 'h8', 'h1', 'h7'}\n",
            "Nuevo elemento agregado a la base: h6\n",
            "Base actual: {'h6', 'h9', 'h8', 'h1', 'h7'}\n",
            "Nuevo elemento agregado a la base: h1\n",
            "Base actual: {'h6', 'h9', 'h8', 'h1', 'h7'}\n",
            "Nuevo elemento agregado a la base: h5\n",
            "Base actual: {'h5', 'h6', 'h9', 'h8', 'h1', 'h7'}\n",
            "Nuevo elemento agregado a la base: h2\n",
            "Base actual: {'h5', 'h6', 'h9', 'h8', 'h1', 'h7', 'h2'}\n",
            "Nuevo elemento agregado a la base: h6\n",
            "Base actual: {'h5', 'h6', 'h9', 'h8', 'h1', 'h7', 'h2'}\n",
            "Nuevo elemento agregado a la base: h9\n",
            "Base actual: {'h5', 'h6', 'h9', 'h8', 'h1', 'h7', 'h2'}\n",
            "Nuevo elemento agregado a la base: h6\n",
            "Base actual: {'h5', 'h6', 'h9', 'h8', 'h1', 'h7', 'h2'}\n",
            "Nuevo elemento agregado a la base: h4\n",
            "Base actual: {'h5', 'h6', 'h9', 'h8', 'h1', 'h7', 'h4', 'h2'}\n",
            "Nuevo elemento agregado a la base: h9\n",
            "Base actual: {'h5', 'h6', 'h9', 'h8', 'h1', 'h7', 'h4', 'h2'}\n",
            "Nuevo elemento agregado a la base: h1\n",
            "Base actual: {'h5', 'h6', 'h9', 'h8', 'h1', 'h7', 'h4', 'h2'}\n",
            "Nuevo elemento agregado a la base: h5\n",
            "Base actual: {'h5', 'h6', 'h9', 'h8', 'h1', 'h7', 'h4', 'h2'}\n",
            "Nuevo elemento agregado a la base: h2\n",
            "Base actual: {'h5', 'h6', 'h9', 'h8', 'h1', 'h7', 'h4', 'h2'}\n",
            "Nuevo elemento agregado a la base: h6\n",
            "Base actual: {'h5', 'h6', 'h9', 'h8', 'h1', 'h7', 'h4', 'h2'}\n",
            "Nuevo elemento agregado a la base: h9\n",
            "Base actual: {'h5', 'h6', 'h9', 'h8', 'h1', 'h7', 'h4', 'h2'}\n",
            "Nuevo elemento agregado a la base: h6\n",
            "Base actual: {'h5', 'h6', 'h9', 'h8', 'h1', 'h7', 'h4', 'h2'}\n",
            "Nuevo elemento agregado a la base: h4\n",
            "Base actual: {'h5', 'h6', 'h9', 'h8', 'h1', 'h7', 'h4', 'h2'}\n",
            "Nuevo elemento agregado a la base: h9\n",
            "Base actual: {'h5', 'h6', 'h9', 'h8', 'h1', 'h7', 'h4', 'h2'}\n",
            "Nuevo elemento agregado a la base: h1\n",
            "Base actual: {'h5', 'h6', 'h9', 'h8', 'h1', 'h7', 'h4', 'h2'}\n",
            "Nuevo elemento agregado a la base: h5\n",
            "Base actual: {'h5', 'h6', 'h9', 'h8', 'h1', 'h7', 'h4', 'h2'}\n",
            "Nuevo elemento agregado a la base: h2\n",
            "Base actual: {'h5', 'h6', 'h9', 'h8', 'h1', 'h7', 'h4', 'h2'}\n",
            "Nuevo elemento agregado a la base: h6\n",
            "Base actual: {'h5', 'h6', 'h9', 'h8', 'h1', 'h7', 'h4', 'h2'}\n",
            "Nuevo elemento agregado a la base: h9\n",
            "Base actual: {'h5', 'h6', 'h9', 'h8', 'h1', 'h7', 'h4', 'h2'}\n",
            "Nuevo elemento agregado a la base: h6\n",
            "Base actual: {'h5', 'h6', 'h9', 'h8', 'h1', 'h7', 'h4', 'h2'}\n"
          ]
        }
      ],
      "source": [
        "# Aplicar reglas hasta que no se puedan aplicar más\n",
        "while True:\n",
        "    tamano_anterior = len(base_conocimiento)\n",
        "    aplicar_reglas(base_conocimiento)\n",
        "    if len(base_conocimiento) == tamano_anterior:\n",
        "        break"
      ]
    },
    {
      "cell_type": "code",
      "execution_count": 7,
      "metadata": {
        "colab": {
          "base_uri": "https://localhost:8080/"
        },
        "id": "YRSFZSGkcxEo",
        "outputId": "f94fd9df-45bc-41bd-d57a-c82704c5d237"
      },
      "outputs": [
        {
          "name": "stdout",
          "output_type": "stream",
          "text": [
            " h2 Es VERDADERO\n"
          ]
        }
      ],
      "source": [
        "# Verificar si el concepto meta está en la base de conocimiento\n",
        "if concepto_meta in base_conocimiento:\n",
        "    print(f\" {concepto_meta} Es VERDADERO\")\n",
        "else:\n",
        "    print(f\" {concepto_meta} FALSO \")\n"
      ]
    },
    {
      "cell_type": "code",
      "execution_count": 8,
      "metadata": {
        "colab": {
          "base_uri": "https://localhost:8080/"
        },
        "id": "hZiHxzGldj7L",
        "outputId": "3a641467-a8ee-49fa-e0ef-d86b2c30b05e"
      },
      "outputs": [
        {
          "name": "stdout",
          "output_type": "stream",
          "text": [
            "Se ha derivado el concepto meta h2.\n"
          ]
        }
      ],
      "source": [
        "# Definición de las reglas\n",
        "rules = {\n",
        "    'R1': (['h8', 'h6', 'h5'], 'h4'),\n",
        "    'R2': (['h6', 'h3'], 'h9'),\n",
        "    'R3': (['h7', 'h4'], 'h9'),\n",
        "    'R4': (['h8'], 'h1'),\n",
        "    'R5': (['h6'], 'h5'),\n",
        "    'R6': (['h9', 'h1'], 'h2'),\n",
        "    'R7': (['h7'], 'h6'),\n",
        "    'R8': (['h1', 'h7'], 'h9'),\n",
        "    'R9': (['h1', 'h8'], 'h6')\n",
        "}\n",
        "\n",
        "# Base de conocimiento inicial\n",
        "base_conocimiento = {'h7', 'h8'}\n",
        "\n",
        "# Concepto meta\n",
        "concepto_meta = 'h2'\n",
        "\n",
        "# Función para aplicar una regla a la base de conocimiento\n",
        "def aplicar_regla(regla, base):\n",
        "    antecedentes, consecuente = rules[regla]\n",
        "    if all(a in base for a in antecedentes):\n",
        "        base.add(consecuente)\n",
        "\n",
        "# Función para aplicar todas las reglas a la base de conocimiento\n",
        "def aplicar_reglas(base):\n",
        "    for regla in rules:\n",
        "        aplicar_regla(regla, base)\n",
        "\n",
        "# Aplicar reglas hasta que no se puedan aplicar más\n",
        "while True:\n",
        "    tamano_anterior = len(base_conocimiento)\n",
        "    aplicar_reglas(base_conocimiento)\n",
        "    if len(base_conocimiento) == tamano_anterior:\n",
        "        break\n",
        "\n",
        "# Verificar si el concepto meta está en la base de conocimiento\n",
        "if concepto_meta in base_conocimiento:\n",
        "    print(f\"Se ha derivado el concepto meta {concepto_meta}.\")\n",
        "else:\n",
        "    print(f\"No se pudo derivar el concepto meta {concepto_meta}.\")\n"
      ]
    }
  ],
  "metadata": {
    "colab": {
      "provenance": []
    },
    "kernelspec": {
      "display_name": "Python 3.10.11 64-bit (microsoft store)",
      "language": "python",
      "name": "python3"
    },
    "language_info": {
      "codemirror_mode": {
        "name": "ipython",
        "version": 3
      },
      "file_extension": ".py",
      "mimetype": "text/x-python",
      "name": "python",
      "nbconvert_exporter": "python",
      "pygments_lexer": "ipython3",
      "version": "3.10.11"
    },
    "vscode": {
      "interpreter": {
        "hash": "c965767bc802af19a24a853c0612696f8d45e4b46098fcf7e869286499529098"
      }
    }
  },
  "nbformat": 4,
  "nbformat_minor": 0
}
